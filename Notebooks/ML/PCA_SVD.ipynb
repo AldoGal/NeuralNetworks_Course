{
 "cells": [
  {
   "cell_type": "code",
   "execution_count": 11,
   "metadata": {},
   "outputs": [],
   "source": [
    "import numpy as np\n",
    "import matplotlib.pyplot as plt\n",
    "from matplotlib import colors\n",
    "import math as mt\n",
    "from numpy import linalg as LA\n",
    "from mpl_toolkits.mplot3d import Axes3D\n",
    "from sklearn.datasets import fetch_olivetti_faces\n",
    "\n",
    "from IPython.display import display, Image\n",
    "%matplotlib inline"
   ]
  },
  {
   "cell_type": "markdown",
   "metadata": {},
   "source": [
    "Matrices as transformation of vectors\n",
    "\n",
    "We can think of a matrix A as a transformation that acts on a vector x by multiplication to produce a new vector Ax. We use $[A]_{ij}$ or $a_{ij}$ to denote the element of matrix $A$ at row $i$ and column $j$. If $A$ is an $m×p$ matrix and $B$ is a $p×n$ matrix, the matrix product $C=AB$ (which is an $m×n$ matrix) is defined as:"
   ]
  },
  {
   "cell_type": "code",
   "execution_count": 12,
   "metadata": {},
   "outputs": [
    {
     "data": {
      "text/html": [
       "<img src=\"https://miro.medium.com/max/429/1*dIGf3mUcGLtxHezSN-tJYA@2x.png\"/>"
      ],
      "text/plain": [
       "<IPython.core.display.Image object>"
      ]
     },
     "execution_count": 12,
     "metadata": {},
     "output_type": "execute_result"
    }
   ],
   "source": [
    "Image(url='https://miro.medium.com/max/429/1*dIGf3mUcGLtxHezSN-tJYA@2x.png')"
   ]
  },
  {
   "cell_type": "markdown",
   "metadata": {},
   "source": [
    "For example, the rotation matrix in a 2-d space can be defined as:"
   ]
  },
  {
   "cell_type": "code",
   "execution_count": 13,
   "metadata": {},
   "outputs": [
    {
     "data": {
      "text/html": [
       "<img src=\"https://miro.medium.com/max/479/1*F-PAQjORuPLU6iRSDsNbvQ@2x.png\"/>"
      ],
      "text/plain": [
       "<IPython.core.display.Image object>"
      ]
     },
     "execution_count": 13,
     "metadata": {},
     "output_type": "execute_result"
    }
   ],
   "source": [
    "Image(url='https://miro.medium.com/max/479/1*F-PAQjORuPLU6iRSDsNbvQ@2x.png')"
   ]
  },
  {
   "cell_type": "markdown",
   "metadata": {},
   "source": [
    "This matrix rotates a vector about the origin by the angle θ (with counterclockwise rotation for a positive θ). Another example is the stretching matrix B in a 2-d space which is defined as:"
   ]
  },
  {
   "cell_type": "code",
   "execution_count": 14,
   "metadata": {},
   "outputs": [
    {
     "data": {
      "text/html": [
       "<img src=\"https://miro.medium.com/max/271/1*CdAvPkNyzRTzf4elJq1Jqw@2x.png\"/>"
      ],
      "text/plain": [
       "<IPython.core.display.Image object>"
      ]
     },
     "execution_count": 14,
     "metadata": {},
     "output_type": "execute_result"
    }
   ],
   "source": [
    "Image(url='https://miro.medium.com/max/271/1*CdAvPkNyzRTzf4elJq1Jqw@2x.png')"
   ]
  },
  {
   "cell_type": "markdown",
   "metadata": {},
   "source": [
    "This matrix stretches a vector along the x-axis by a constant factor k but does not affect it in the y-direction. Similarly, we can have a stretching matrix in y-direction:"
   ]
  },
  {
   "cell_type": "code",
   "execution_count": 15,
   "metadata": {},
   "outputs": [
    {
     "data": {
      "text/html": [
       "<img src=\"https://miro.medium.com/max/271/1*BHLLMpvoYHjFt2a0a3E7Tg@2x.png\"/>"
      ],
      "text/plain": [
       "<IPython.core.display.Image object>"
      ]
     },
     "execution_count": 15,
     "metadata": {},
     "output_type": "execute_result"
    }
   ],
   "source": [
    "Image(url='https://miro.medium.com/max/271/1*BHLLMpvoYHjFt2a0a3E7Tg@2x.png')"
   ]
  },
  {
   "cell_type": "markdown",
   "metadata": {},
   "source": [
    "As an example, if we have a vector"
   ]
  },
  {
   "cell_type": "code",
   "execution_count": 16,
   "metadata": {},
   "outputs": [
    {
     "data": {
      "text/html": [
       "<img src=\"https://miro.medium.com/max/196/1*KJurF41ZySx1kq_i4iegyQ@2x.png\"/>"
      ],
      "text/plain": [
       "<IPython.core.display.Image object>"
      ]
     },
     "execution_count": 16,
     "metadata": {},
     "output_type": "execute_result"
    }
   ],
   "source": [
    "Image(url='https://miro.medium.com/max/196/1*KJurF41ZySx1kq_i4iegyQ@2x.png')"
   ]
  },
  {
   "cell_type": "markdown",
   "metadata": {},
   "source": [
    "then y=Ax is the vector which results after rotation of x by θ, and Bx is a vector which is the result of stretching x in the x-direction by a constant factor k.\n",
    "The following code shows how these matrices can be applied to a vector x and visualized in Python. We can use the NumPy arrays as vectors and matrices.  \n",
    "Here the rotation matrix is calculated for θ=30⁰ and in the stretching matrix k=3. y is the transformed vector of x. To plot the vectors, the quiver() function in matplotlib has been used."
   ]
  },
  {
   "cell_type": "code",
   "execution_count": 1,
   "metadata": {},
   "outputs": [
    {
     "data": {
      "image/png": "[encoded data removed]",
      "text/plain": [
       "<Figure size 720x1080 with 2 Axes>"
      ]
     },
     "metadata": {
      "needs_background": "light"
     },
     "output_type": "display_data"
    }
   ],
   "source": [
    "x = np.array([1,0]) # Original vector\n",
    "theta = 30 * mt.pi / 180 # 30 degress in radian\n",
    "A = np.array([[np.cos(theta), -np.sin(theta)],[np.sin(theta), np.cos(theta)]]) # Rotation matrix for theta=30 degrees\n",
    "B = np.array([[3,0],[0,1]]) # Stretching matrix\n",
    "\n",
    "Ax = A @ x  # y1 is the rotated vector\n",
    "Bx = B @ x  # y2 is the stretched vector\n",
    "\n",
    "# Reshaping and storing both x and Ax in t1 to be plotted as vectors\n",
    "t1 = np.concatenate([x.reshape(1,2), Ax.reshape(1,2)])\n",
    "\n",
    "# Reshaping and storing both x and Bx in t2 to be plotted as vectors\n",
    "t2 = np.concatenate([x.reshape(1,2), Bx.reshape(1,2)])\n",
    "origin = [0], [0] # origin point\n",
    "\n",
    "fig, (ax1, ax2) = plt.subplots(1, 2, figsize=(10,15))\n",
    "plt.subplots_adjust(wspace=0.4)\n",
    "\n",
    "# Plotting t1\n",
    "ax1.quiver(*origin, t1[:,0], t1[:,1], color=['b', 'g'], width=0.013, angles='xy', scale_units='xy', scale=1)\n",
    "ax1.set_xlabel('x', fontsize=14)\n",
    "ax1.set_ylabel('y', fontsize=14)\n",
    "ax1.set_xlim([-0.5,1.5])\n",
    "ax1.set_ylim([-0.5,1])\n",
    "ax1.set_aspect('equal')\n",
    "ax1.grid(True)\n",
    "ax1.set_axisbelow(True)\n",
    "ax1.set_title(\"Rotation transform\")\n",
    "ax1.axhline(y=0, color='k')\n",
    "ax1.axvline(x=0, color='k')\n",
    "ax1.text(1, 0.1, \"$\\mathbf{x}$\", fontsize=16)\n",
    "ax1.text(0.8, 0.6, \"$\\mathbf{Ax}$\", fontsize=16)\n",
    "\n",
    "# Plotting t2\n",
    "ax2.quiver(*origin, t2[:,0], t2[:,1], color=['b', 'g'], width=0.013, angles='xy', scale_units='xy', scale=1)\n",
    "ax2.set_xlabel('x', fontsize=14)\n",
    "ax2.set_ylabel('y', fontsize=14)\n",
    "ax2.set_xlim([-0.5,3.5])\n",
    "ax2.set_ylim([-1.5,1.5])\n",
    "ax2.set_aspect('equal')\n",
    "ax2.grid(True)\n",
    "ax2.set_axisbelow(True)\n",
    "ax2.set_title(\"Stretching transform\")\n",
    "ax2.axhline(y=0, color='k')\n",
    "ax2.axvline(x=0, color='k')\n",
    "ax2.text(1, 0.2, \"$\\mathbf{x}$\", fontsize=16)\n",
    "ax2.text(3, 0.2, \"$\\mathbf{Bx}$\", fontsize=16)\n",
    "\n",
    "plt.show()"
   ]
  },
  {
   "cell_type": "markdown",
   "metadata": {},
   "source": [
    "PCA"
   ]
  },
  {
   "cell_type": "code",
   "execution_count": 2,
   "metadata": {},
   "outputs": [],
   "source": [
    "def pca(X):\n",
    "  # Data matrix X, assumes 0-centered\n",
    "  n, m = X.shape\n",
    "  assert np.allclose(X.mean(axis=0), np.zeros(m))\n",
    "  # Compute covariance matrix\n",
    "  C = np.dot(X.T, X) / (n-1)\n",
    "  # Eigen decomposition\n",
    "  eigen_vals, eigen_vecs = np.linalg.eig(C)\n",
    "  # Project X onto PC space\n",
    "  X_pca = np.dot(X, eigen_vecs)\n",
    "  return X_pca"
   ]
  },
  {
   "cell_type": "markdown",
   "metadata": {},
   "source": [
    "SVD"
   ]
  },
  {
   "cell_type": "code",
   "execution_count": 3,
   "metadata": {},
   "outputs": [],
   "source": [
    "def svd(X):\n",
    "  # Data matrix X, X doesn't need to be 0-centered\n",
    "  n, m = X.shape\n",
    "  # Compute full SVD\n",
    "  U, Sigma, Vh = np.linalg.svd(X, \n",
    "      full_matrices=False, # It's not necessary to compute the full matrix of U or V\n",
    "      compute_uv=True)\n",
    "  # Transform X with SVD components\n",
    "  X_svd = np.dot(U, np.diag(Sigma))\n",
    "  return X_svd"
   ]
  },
  {
   "cell_type": "code",
   "execution_count": 7,
   "metadata": {},
   "outputs": [],
   "source": [
    "X = np.array([[1,2,3],[4,2,1],[6,3,1]])\n",
    "n=3"
   ]
  },
  {
   "cell_type": "markdown",
   "metadata": {},
   "source": [
    "PCA and SVD"
   ]
  },
  {
   "cell_type": "code",
   "execution_count": 8,
   "metadata": {},
   "outputs": [
    {
     "name": "stdout",
     "output_type": "stream",
     "text": [
      "True\n"
     ]
    }
   ],
   "source": [
    "# Compute covariance matrix\n",
    "C = np.dot(X.T, X) / (n-1)\n",
    "\n",
    "# Eigen decomposition\n",
    "eigen_vals, eigen_vecs = np.linalg.eig(C)\n",
    "\n",
    "# SVD\n",
    "U, Sigma, Vh = np.linalg.svd(X, \n",
    "    full_matrices=False, \n",
    "    compute_uv=True)\n",
    "\n",
    "# Relationship between singular values and eigen values:\n",
    "print(np.allclose(np.square(Sigma) / (n - 1), eigen_vals)) # True"
   ]
  },
  {
   "cell_type": "code",
   "execution_count": null,
   "metadata": {},
   "outputs": [],
   "source": []
  }
 ],
 "metadata": {
  "kernelspec": {
   "display_name": "Python 3",
   "language": "python",
   "name": "python3"
  },
  "language_info": {
   "codemirror_mode": {
    "name": "ipython",
    "version": 3
   },
   "file_extension": ".py",
   "mimetype": "text/x-python",
   "name": "python",
   "nbconvert_exporter": "python",
   "pygments_lexer": "ipython3",
   "version": "3.7.6"
  }
 },
 "nbformat": 4,
 "nbformat_minor": 4
}
